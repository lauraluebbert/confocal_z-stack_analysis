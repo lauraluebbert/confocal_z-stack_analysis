{
 "cells": [
  {
   "cell_type": "markdown",
   "metadata": {
    "colab_type": "text",
    "id": "D7sjWI4p4XwJ"
   },
   "source": [
    "# Computing maximum projections from z-stack images"
   ]
  },
  {
   "cell_type": "markdown",
   "metadata": {
    "colab_type": "text",
    "id": "RHy9_zY_4XwK"
   },
   "source": [
    "This notebook computes the maximum projection of confocal z-stack images. It then saves the images in a separate folder with or without a scalebar (define below). Image matrices are saved to a dictionary and continuously linked to their sample ID, channel, condition, and filename.\n",
    "\n",
    "#### Name images as follows: \n",
    "X_samplecondition_sample_channel , where \"X\" is optional and can be filled as desired by the user (do not use spaces).  \n",
    "- \"Samplecondition\" can be a string of text separated by \"-\", e.g. \"GCaMP-30C-6d_sample_channel\" (Do not use spaces or \"_\" within the condition, else part of it will be cut out in the dictionary.)  \n",
    "- \"Sample\" and \"channel\" can be a simple number or a description, e.g.: \"samplecondition_1_1\" or \"samplecondition_Brain1_DAPI\". (Do not use spaces or \"_\" within the sample or channel.)  \n",
    "\n",
    "#### Click \"Run all\" after defining the parameters below.\n",
    "\n",
    "Written by Laura Luebbert, 20th of August 2020.  \n",
    "\n",
    "Modified on: / "
   ]
  },
  {
   "cell_type": "markdown",
   "metadata": {
    "colab_type": "text",
    "id": "Hy5hepLD4XwK"
   },
   "source": [
    "# Define the parameters:"
   ]
  },
  {
   "cell_type": "markdown",
   "metadata": {
    "colab_type": "text",
    "id": "iOVwOJ8g4XwL"
   },
   "source": [
    "### Define the directory containing the tif files:"
   ]
  },
  {
   "cell_type": "code",
   "execution_count": null,
   "metadata": {
    "colab": {},
    "colab_type": "code",
    "id": "vokUDPYx4XwM"
   },
   "outputs": [],
   "source": [
    "data_dir = \"/Users/\""
   ]
  },
  {
   "cell_type": "markdown",
   "metadata": {
    "colab_type": "text",
    "id": "wlEJo_lt4XwO"
   },
   "source": [
    "### Define microscope and magnification (to get interpixel distance) OR define interpixel distance directly if different microscope/magnification used:"
   ]
  },
  {
   "cell_type": "code",
   "execution_count": null,
   "metadata": {
    "colab": {},
    "colab_type": "code",
    "id": "m8uJn1VG4XwP"
   },
   "outputs": [],
   "source": [
    "# Define microscope used (\"Lois\", \"LSM800\" or define interpixel distance manually below)\n",
    "microscope = \"Lois\"\n",
    "\n",
    "# Define magnification (\"20\" or define interpixel distance manually below)\n",
    "magnification = \"20\"\n",
    "\n",
    "# Uncomment (remove the #) and define interpixel distance if different microscope/magnification used:\n",
    "# interpixel_distance = "
   ]
  },
  {
   "cell_type": "markdown",
   "metadata": {
    "colab_type": "text",
    "id": "eXHWPDXW4XwR"
   },
   "source": [
    "### Scale bar options:"
   ]
  },
  {
   "cell_type": "code",
   "execution_count": null,
   "metadata": {
    "colab": {},
    "colab_type": "code",
    "id": "4xX3xYPq4XwS"
   },
   "outputs": [],
   "source": [
    "# Turn scale bar on/off (define as \"yes\" or \"no\")\n",
    "scale_bar = True\n",
    "\n",
    "# Set scalebar color (\"white\" or \"black\")\n",
    "scale_bar_color = \"white\"\n",
    "\n",
    "# Define the desired scale bar size and width in length unit.\n",
    "scale_bar_length = 100\n",
    "scale_bar_width = 5\n",
    "\n",
    "# Define position of scale bar:\n",
    "# Distance from top (Distance in % of total length of image)\n",
    "y_pos = 95\n",
    "# Distance of rightmost end of scale bar from left end of image (Distance in % of total length of image)\n",
    "x_pos = 95"
   ]
  },
  {
   "cell_type": "markdown",
   "metadata": {
    "colab_type": "text",
    "id": "-5v8oQ-q4XwU"
   },
   "source": [
    "### Saving options:"
   ]
  },
  {
   "cell_type": "code",
   "execution_count": null,
   "metadata": {
    "colab": {},
    "colab_type": "code",
    "id": "6UeedKmZ4XwU"
   },
   "outputs": [],
   "source": [
    "# Directory where maximum projection image folder will be created.\n",
    "saving_dir = data_dir\n",
    "\n",
    "# Set the file format the images should be saved as:\n",
    "file_format = \"tif\""
   ]
  },
  {
   "cell_type": "markdown",
   "metadata": {
    "colab_type": "text",
    "id": "mMskXcKA4XwX"
   },
   "source": [
    "### Define colors/LUTs of each channel for maximum projections:"
   ]
  },
  {
   "cell_type": "code",
   "execution_count": null,
   "metadata": {
    "colab": {},
    "colab_type": "code",
    "id": "W3a-d3i24XwX"
   },
   "outputs": [],
   "source": [
    "# Define dictionary with the channel#/channel-name (exactly as defined in the filename) coupled to \"green\", \"red\", or \"blue\"\n",
    "# e.g. \"1\":\"green\" or \"DAPI\":\"blue\"  \n",
    "color_dict = {\"GFP\":\"green\", \"RFP\":\"red\", \"DAPI\":\"blue\"}"
   ]
  },
  {
   "cell_type": "markdown",
   "metadata": {
    "colab_type": "text",
    "id": "6yQKd7SB4XwZ"
   },
   "source": [
    "### Filter options for maximum projections:"
   ]
  },
  {
   "cell_type": "code",
   "execution_count": null,
   "metadata": {
    "colab": {},
    "colab_type": "code",
    "id": "3u2S93q24Xwa"
   },
   "outputs": [],
   "source": [
    "# Despeckling using median filter (skimage.filters.rank.median) (define as \"yes\" or \"no\")\n",
    "despeckle = True\n",
    "despeckle_parameter = 3\n",
    "\n",
    "# Contrast is optimized using the skimage.exposure.equalize_adapthist function (define as \"yes\" or \"no\")\n",
    "optimize_contrast = True"
   ]
  },
  {
   "cell_type": "markdown",
   "metadata": {
    "colab_type": "text",
    "id": "sFxgogU24Xwc"
   },
   "source": [
    "___"
   ]
  },
  {
   "cell_type": "markdown",
   "metadata": {
    "colab_type": "text",
    "id": "Dd1P8Vtx4Xwd"
   },
   "source": [
    "___"
   ]
  },
  {
   "cell_type": "code",
   "execution_count": null,
   "metadata": {
    "colab": {},
    "colab_type": "code",
    "id": "XpYgO2gm4Xwd"
   },
   "outputs": [],
   "source": [
    "# %load_ext blackcellmagic\n",
    "%config InlineBackend.figure_format = 'retina'"
   ]
  },
  {
   "cell_type": "code",
   "execution_count": null,
   "metadata": {
    "colab": {},
    "colab_type": "code",
    "id": "pJn9ojH_4Xwh"
   },
   "outputs": [],
   "source": [
    "# Tools to read in the image files and filenames\n",
    "import glob\n",
    "import os\n",
    "import re \n",
    "\n",
    "# Calculation and data frame tools\n",
    "import numpy as np\n",
    "import pandas as pd\n",
    "\n",
    "# Image processing tools\n",
    "import skimage\n",
    "import skimage.io\n",
    "import skimage.morphology\n",
    "\n",
    "# Tools to create new folders\n",
    "from pathlib import Path\n",
    "\n",
    "# Tools to save dictionaries\n",
    "import pickle\n",
    "\n",
    "# To make a copy of a dictionary\n",
    "import copy\n",
    "\n",
    "# Plotting tools\n",
    "import bokeh\n",
    "import bokeh_catplot\n",
    "bokeh.io.output_notebook()"
   ]
  },
  {
   "cell_type": "markdown",
   "metadata": {
    "colab_type": "text",
    "id": "s8rTziXA4Xwj"
   },
   "source": [
    "___"
   ]
  },
  {
   "cell_type": "markdown",
   "metadata": {
    "colab_type": "text",
    "id": "s-HgDnbX4Xwj"
   },
   "source": [
    "# Get the interpixel distance"
   ]
  },
  {
   "cell_type": "code",
   "execution_count": null,
   "metadata": {
    "colab": {},
    "colab_type": "code",
    "id": "3PxpmiXH4Xwk"
   },
   "outputs": [],
   "source": [
    "if microscope == \"LSM800\":\n",
    "    if magnification == \"20\":\n",
    "        interpixel_distance = 0.3119629\n",
    "        \n",
    "if microscope == \"Lois\":\n",
    "    if magnification == \"20\":\n",
    "        interpixel_distance = 0.690534"
   ]
  },
  {
   "cell_type": "markdown",
   "metadata": {
    "colab_type": "text",
    "id": "_6dklqsz4Xwm"
   },
   "source": [
    "___"
   ]
  },
  {
   "cell_type": "markdown",
   "metadata": {
    "colab_type": "text",
    "id": "o5PnrQya4Xwn"
   },
   "source": [
    "# Load in the data"
   ]
  },
  {
   "cell_type": "code",
   "execution_count": null,
   "metadata": {
    "colab": {},
    "colab_type": "code",
    "id": "F9Ofpb_q4Xwn"
   },
   "outputs": [],
   "source": [
    "# Glob string for images (loads all .tif files)\n",
    "im_glob = os.path.join(data_dir, \"*.tif\")\n",
    "\n",
    "# Get list of files in directory\n",
    "im_list = sorted(glob.glob(im_glob))\n",
    "\n",
    "# Let's look at the first 10 entries\n",
    "im_list[:10]"
   ]
  },
  {
   "cell_type": "markdown",
   "metadata": {
    "colab_type": "text",
    "id": "GKeYPuIg4Xwp"
   },
   "source": [
    "Create a nested dictionary with information about each sample coupled to the z-stack image matrix, as well as space for matrices added later:"
   ]
  },
  {
   "cell_type": "code",
   "execution_count": null,
   "metadata": {
    "colab": {},
    "colab_type": "code",
    "id": "lvCp77kI4Xwp"
   },
   "outputs": [],
   "source": [
    "dicts = {}\n",
    "\n",
    "for i in range(len(im_list)):\n",
    "    # Get sample condition\n",
    "    condition = im_list[i].split(\"/\")[-1].split(\"_\")[-3]\n",
    "    \n",
    "    # Make sure we do not overwrite a previous dictionary entry    \n",
    "    if dicts.get(condition) == None:\n",
    "        dicts[condition] = {}\n",
    "    \n",
    "    # Get sample number\n",
    "    sample = im_list[i].split(\"/\")[-1].split(\"_\")[-2]\n",
    "    \n",
    "    # Make sure we do not overwrite a previous dictionary entry\n",
    "    if dicts.get(condition, {}).get(sample) == None:\n",
    "        dicts[condition][sample] = {}\n",
    "    \n",
    "    # Get channel number    \n",
    "    channel = im_list[i].split(\"/\")[-1].split(\"_\")[-1].split(\".\")[0]\n",
    "    \n",
    "    # Add empty arrays to dictionary to populate with images later\n",
    "    dicts[condition][sample][channel] = {\n",
    "        \"matrix_orig\": [],      # Original image z-stack matrix\n",
    "        \"matrix_max\": [],       # Image matrix of maximum projection image \n",
    "        \"matrix_max_8\": [],     # Image matrix of maximum projection as 8-bit image \n",
    "        \"matrix_max_8_SB\": [],  # Image matrix of maximum projection as 8-bit image with scale bar \n",
    "        \"filename\": [],         # The original filename, just in case\n",
    "    }    \n",
    "    \n",
    "    # Populate dictionary with original image matrix\n",
    "    dicts[condition][sample][channel][\"matrix_orig\"] = skimage.io.imread(im_list[i])\n",
    "    \n",
    "    # Populate dictionary with original filename\n",
    "    dicts[condition][sample][channel][\"filename\"] = im_list[i].split(\"/\")[-1].split(\".\")[-2]"
   ]
  },
  {
   "cell_type": "markdown",
   "metadata": {
    "colab_type": "text",
    "id": "QXYuSy3D4Xwr"
   },
   "source": [
    "___"
   ]
  },
  {
   "cell_type": "markdown",
   "metadata": {
    "colab_type": "text",
    "id": "UkszcL6H4Xws"
   },
   "source": [
    "# Compute maximum projections\n",
    "Find the maximum pixel value across the frames for each channel for each image:"
   ]
  },
  {
   "cell_type": "code",
   "execution_count": null,
   "metadata": {
    "colab": {},
    "colab_type": "code",
    "id": "D9V-0jXa4Xws"
   },
   "outputs": [],
   "source": [
    "selem = skimage.morphology.square(despeckle_parameter)\n",
    "\n",
    "# Loop through every image in the dictionary\n",
    "for k1_condition, v1_sample in dicts.items():\n",
    "    for k2_sample, v2_channel in v1_sample.items():\n",
    "        for k3_channel, im in v2_channel.items():\n",
    "            \n",
    "            image = np.array(im[\"matrix_orig\"])\n",
    "\n",
    "            # Create a matrix of zeros in the same size as our image (x-pixels, y-pixels) to fill color channels we do not need\n",
    "            zeros = np.zeros((image.shape[1], image.shape[2]))\n",
    "\n",
    "            # np.max with axis=0 returns the maximum of each column (each row equals to a frame)\n",
    "            max_channel = image.max(axis=0)\n",
    "\n",
    "            # Image filter options\n",
    "            if despeckle == True:\n",
    "                max_channel = skimage.filters.rank.median(max_channel, selem)   \n",
    "\n",
    "            if optimize_contrast == True:  \n",
    "                max_channel = skimage.exposure.equalize_adapthist(max_channel)\n",
    "\n",
    "            # Populate maximum projections dictionary with the max projection and name of the image\n",
    "            # The color/LUT is based on its axis in the array (red, green or blue):\n",
    "            if color_dict[k3_channel] == \"red\":\n",
    "                dicts[k1_condition][k2_sample][k3_channel][\"matrix_max\"] = np.dstack((max_channel, zeros, zeros))\n",
    "\n",
    "            if color_dict[k3_channel] == \"green\":\n",
    "                dicts[k1_condition][k2_sample][k3_channel][\"matrix_max\"] = np.dstack((zeros, max_channel, zeros))\n",
    "\n",
    "            if color_dict[k3_channel] == \"blue\":\n",
    "                dicts[k1_condition][k2_sample][k3_channel][\"matrix_max\"] = np.dstack((zeros, zeros, max_channel))"
   ]
  },
  {
   "cell_type": "markdown",
   "metadata": {
    "colab_type": "text",
    "id": "Qk0GdHbD4Xwu"
   },
   "source": [
    "___"
   ]
  },
  {
   "cell_type": "markdown",
   "metadata": {
    "colab_type": "text",
    "id": "Xh6IHmZr4Xwv"
   },
   "source": [
    "# Save maximum projections"
   ]
  },
  {
   "cell_type": "markdown",
   "metadata": {
    "colab_type": "text",
    "id": "7cXYChiH4Xwv"
   },
   "source": [
    "#### Scale down images:"
   ]
  },
  {
   "cell_type": "markdown",
   "metadata": {
    "colab_type": "text",
    "id": "WK0bF-Ip4Xwv"
   },
   "source": [
    "To save the images using skimage, we need to scale them down to 8 bit."
   ]
  },
  {
   "cell_type": "code",
   "execution_count": null,
   "metadata": {
    "colab": {},
    "colab_type": "code",
    "id": "PtCBYlZ64Xww"
   },
   "outputs": [],
   "source": [
    "# Scale down images to 8 bits\n",
    "\n",
    "for k1_condition, v1_sample in dicts.items():\n",
    "    for k2_sample, v2_channel in v1_sample.items():\n",
    "        for k3_channel, im in v2_channel.items():\n",
    "            # Linearly scale image down to 8-bit.\n",
    "            image = (im[\"matrix_max\"] / im[\"matrix_max\"].max()) * 255\n",
    "\n",
    "            # Change list to array and change type to 8-bit array.\n",
    "            image = np.array(image)\n",
    "            image = image.astype(np.uint8)\n",
    "\n",
    "            dicts[k1_condition][k2_sample][k3_channel][\"matrix_max_8\"] = image"
   ]
  },
  {
   "cell_type": "markdown",
   "metadata": {
    "colab_type": "text",
    "id": "32zP1Cac4Xwy"
   },
   "source": [
    "### Display the last maximum projection using skimage:"
   ]
  },
  {
   "cell_type": "code",
   "execution_count": null,
   "metadata": {
    "colab": {},
    "colab_type": "code",
    "id": "Byj2VQJG4Xwz"
   },
   "outputs": [],
   "source": [
    "skimage.io.imshow(dicts[k1_condition][k2_sample][k3_channel][\"matrix_max_8\"])"
   ]
  },
  {
   "cell_type": "markdown",
   "metadata": {
    "colab_type": "text",
    "id": "IQpirAJB4Xw1"
   },
   "source": [
    "#### Burn in scale bars:"
   ]
  },
  {
   "cell_type": "markdown",
   "metadata": {
    "colab_type": "text",
    "id": "2hslMgJl4Xw1"
   },
   "source": [
    "Scale bar is burned into image by changing the pixel value to 1000 (white scale bar) or 0 (black scale bar) in scale bar area defined in the corresponding \"parameters\" cell above:"
   ]
  },
  {
   "cell_type": "code",
   "execution_count": null,
   "metadata": {
    "colab": {},
    "colab_type": "code",
    "id": "gPhPw6u24Xw1"
   },
   "outputs": [],
   "source": [
    "if scale_bar == True:\n",
    "\n",
    "    scalebar = 1 / interpixel_distance * scale_bar_length\n",
    "    scalebar_width = 1 / interpixel_distance * scale_bar_width\n",
    "\n",
    "    if scale_bar_color == \"white\":\n",
    "        for k1_condition, v1_sample in dicts.items():\n",
    "            for k2_sample, v2_channel in v1_sample.items():\n",
    "                for k3_channel, im in v2_channel.items():\n",
    "                    y_value = int((im[\"matrix_max_8\"].shape[0]/100)*y_pos)\n",
    "                    x_value = int((im[\"matrix_max_8\"].shape[1]/100)*x_pos) \n",
    "\n",
    "                    im[\"matrix_max_8\"][y_value : y_value + int(scalebar_width), x_value - int(scalebar) : x_value] = 255\n",
    "\n",
    "                    # Populate dict with 8-bit images containing a scale bar\n",
    "                    dicts[k1_condition][k2_sample][k3_channel][\"matrix_max_8_SB\"] = im[\"matrix_max_8\"]\n",
    "\n",
    "    elif scale_bar_color == \"black\":\n",
    "        for k1_condition, v1_sample in dicts.items():\n",
    "            for k2_sample, v2_channel in v1_sample.items():\n",
    "                for k3_channel, im in v2_channel.items():\n",
    "                    y_pos = int((im[\"matrix_max_8\"].shape[0]/100)*y_pos)\n",
    "                    x_pos = int((im[\"matrix_max_8\"].shape[1]/100)*x_pos)\n",
    "\n",
    "                    im[\"matrix_max_8\"][y_pos : y_pos + int(scalebar_width), x_pos - int(scalebar) : x_pos] = 0\n",
    "\n",
    "                    # Populate dict with 8-bit images containing a scale bar\n",
    "                    dicts[k1_condition][k2_sample][k3_channel][\"matrix_max_8_SB\"] = im[\"matrix_max_8\"]\n",
    "            \n",
    "else:\n",
    "    for k1_condition, v1_sample in dicts.items():\n",
    "        for k2_sample, v2_channel in v1_sample.items():\n",
    "            for k3_channel, im in v2_channel.items():\n",
    "            \n",
    "                dicts[k1_condition][k2_sample][k3_channel][\"matrix_max_8_SB\"] = im[\"matrix_max_8\"]"
   ]
  },
  {
   "cell_type": "markdown",
   "metadata": {
    "colab_type": "text",
    "id": "CzBznbk24Xw3"
   },
   "source": [
    "Display one image with scale bar:"
   ]
  },
  {
   "cell_type": "code",
   "execution_count": null,
   "metadata": {
    "colab": {},
    "colab_type": "code",
    "id": "cuWG4h4g4Xw4"
   },
   "outputs": [],
   "source": [
    "skimage.io.imshow(dicts[k1_condition][k2_sample][k3_channel][\"matrix_max_8_SB\"])"
   ]
  },
  {
   "cell_type": "markdown",
   "metadata": {
    "colab_type": "text",
    "id": "9L1PwV9-4Xw5"
   },
   "source": [
    "### Create max projection folder:"
   ]
  },
  {
   "cell_type": "markdown",
   "metadata": {
    "colab_type": "text",
    "id": "qLZq75SX4Xw6"
   },
   "source": [
    "Create folder in saving directory to save maximum projections to (unless the folder already exists):"
   ]
  },
  {
   "cell_type": "code",
   "execution_count": null,
   "metadata": {
    "colab": {},
    "colab_type": "code",
    "id": "pnapjM7H4Xw6"
   },
   "outputs": [],
   "source": [
    "path = (\"{}/{}_max_projections\").format(saving_dir, im_list[0].split(\"/\")[-2])\n",
    "Path(path).mkdir(parents=True, exist_ok=True)"
   ]
  },
  {
   "cell_type": "markdown",
   "metadata": {
    "colab_type": "text",
    "id": "Rsgv0t-c4Xw8"
   },
   "source": [
    "### Save all images with a scale bar:"
   ]
  },
  {
   "cell_type": "code",
   "execution_count": null,
   "metadata": {
    "colab": {},
    "colab_type": "code",
    "id": "hAn4pqYH4Xw8"
   },
   "outputs": [],
   "source": [
    "for k1_condition, v1_sample in dicts.items():\n",
    "    for k2_sample, v2_channel in v1_sample.items():\n",
    "        for k3_channel, im in v2_channel.items():\n",
    "            skimage.io.imsave(\n",
    "                (\"{}/{}_max.{}\").format(path, im[\"filename\"], file_format),\n",
    "                im[\"matrix_max_8_SB\"],\n",
    "                plugin=None,\n",
    "                check_contrast=True,\n",
    "            )"
   ]
  },
  {
   "cell_type": "markdown",
   "metadata": {
    "colab_type": "text",
    "id": "f3RAWu_E4Xw-"
   },
   "source": [
    "### Pickle image data dictionary:"
   ]
  },
  {
   "cell_type": "code",
   "execution_count": null,
   "metadata": {
    "colab": {},
    "colab_type": "code",
    "id": "HxJkCoEA4Xw-"
   },
   "outputs": [],
   "source": [
    "# Use pickle to save dictionaries\n",
    "\n",
    "# The advantage of HIGHEST_PROTOCOL is that files get smaller. This makes unpickling sometimes much faster.\n",
    "with open(\n",
    "    (\"{}/{}.pickle\").format(data_dir, im_list[0].split(\"/\")[-2]), \"wb\"\n",
    ") as handle:\n",
    "    pickle.dump(dicts, handle, protocol=pickle.HIGHEST_PROTOCOL)"
   ]
  },
  {
   "cell_type": "markdown",
   "metadata": {
    "colab_type": "text",
    "id": "ha4hYfX_4XxB"
   },
   "source": [
    "___"
   ]
  },
  {
   "cell_type": "markdown",
   "metadata": {
    "colab_type": "text",
    "id": "ulkYb0zj4XxC"
   },
   "source": [
    "# Computing environment"
   ]
  },
  {
   "cell_type": "code",
   "execution_count": null,
   "metadata": {
    "colab": {},
    "colab_type": "code",
    "id": "1TfGOjK74XxC"
   },
   "outputs": [],
   "source": [
    "%load_ext watermark\n",
    "\n",
    "%watermark -v -p re,numpy,pandas,skimage,bokeh,bokeh_catplot,jupyterlab"
   ]
  }
 ],
 "metadata": {
  "colab": {
   "include_colab_link": true,
   "name": "TEMPLATE_max_project.ipynb",
   "provenance": []
  },
  "kernelspec": {
   "display_name": "Python 3",
   "language": "python",
   "name": "python3"
  },
  "language_info": {
   "codemirror_mode": {
    "name": "ipython",
    "version": 3
   },
   "file_extension": ".py",
   "mimetype": "text/x-python",
   "name": "python",
   "nbconvert_exporter": "python",
   "pygments_lexer": "ipython3",
   "version": "3.7.7"
  }
 },
 "nbformat": 4,
 "nbformat_minor": 4
}
