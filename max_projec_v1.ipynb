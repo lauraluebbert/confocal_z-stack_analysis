{
 "cells": [
  {
   "cell_type": "code",
   "execution_count": null,
   "metadata": {},
   "outputs": [],
   "source": [
    "# Tools to read in the image files and filenames\n",
    "import glob\n",
    "import os\n",
    "import re \n",
    "\n",
    "# Calculation and data frame tools\n",
    "import numpy as np\n",
    "import pandas as pd\n",
    "\n",
    "# Image processing tools\n",
    "import skimage\n",
    "import skimage.io\n",
    "import skimage.morphology\n",
    "\n",
    "# Plotting tools\n",
    "import bokeh\n",
    "import bokeh_catplot\n",
    "bokeh.io.output_notebook()"
   ]
  },
  {
   "cell_type": "markdown",
   "metadata": {},
   "source": [
    "___"
   ]
  },
  {
   "cell_type": "markdown",
   "metadata": {},
   "source": [
    "This notebook computes the maximum projection of confocal z-stack images. It then saves the images in a separate folder with or without a scalebar (define below). Currently it does not have the option to exclude channels or change the colors assigned (channel 1 will be red, channel 2 will be green, channel 3 will be blue), yet.  \n",
    "\n",
    "Written by Laura Luebbert, 15th of May 2020.  \n",
    "\n",
    "Modified on: / "
   ]
  },
  {
   "cell_type": "markdown",
   "metadata": {},
   "source": [
    "___"
   ]
  },
  {
   "cell_type": "markdown",
   "metadata": {},
   "source": [
    "# Define the parameters"
   ]
  },
  {
   "cell_type": "markdown",
   "metadata": {},
   "source": [
    "### Define the directory containing the tif files:"
   ]
  },
  {
   "cell_type": "code",
   "execution_count": 1,
   "metadata": {},
   "outputs": [],
   "source": [
    "data_dir = ''"
   ]
  },
  {
   "cell_type": "markdown",
   "metadata": {},
   "source": [
    "### Define interpixel distance and length unit:"
   ]
  },
  {
   "cell_type": "code",
   "execution_count": null,
   "metadata": {},
   "outputs": [],
   "source": [
    "interpixel_distance = 0.3452670\n",
    "length_units = \"µm\""
   ]
  },
  {
   "cell_type": "markdown",
   "metadata": {},
   "source": [
    "### Scale bar options:"
   ]
  },
  {
   "cell_type": "code",
   "execution_count": null,
   "metadata": {},
   "outputs": [],
   "source": [
    "scale_bar = True\n",
    "\n",
    "# Set scalebar color (\"white\" or \"black\")\n",
    "scale_bar_color = \"white\"\n",
    "\n",
    "# Define the desired scale bar size and width in length unit.\n",
    "scale_bar_length = 50\n",
    "scale_bar_width = 5\n",
    "\n",
    "# Define position of scale bar:\n",
    "# Distance from top (Distance in % of total length of image)\n",
    "y_pos = 95\n",
    "# Distance of rightmost end of scale bar from left end of image (Distance in % of total length of image)\n",
    "x_pos = 95"
   ]
  },
  {
   "cell_type": "markdown",
   "metadata": {},
   "source": [
    "### Saving options:"
   ]
  },
  {
   "cell_type": "code",
   "execution_count": null,
   "metadata": {},
   "outputs": [],
   "source": [
    "# Directory where maximum projection image folder will be created.\n",
    "saving_dir = data_dir\n",
    "\n",
    "file_format = \"tif\""
   ]
  },
  {
   "cell_type": "markdown",
   "metadata": {},
   "source": [
    "### Filter options:"
   ]
  },
  {
   "cell_type": "code",
   "execution_count": null,
   "metadata": {},
   "outputs": [],
   "source": [
    "# Despeckling using median filter (skimage.filters.rank.median)\n",
    "despeckle = \"Yes\"\n",
    "despeckle_parameter = 3\n",
    "\n",
    "# Contrast is optimized using the skimage.exposure.equalize_adapthist function\n",
    "optimize_contrast = \"Yes\""
   ]
  },
  {
   "cell_type": "markdown",
   "metadata": {},
   "source": [
    "___"
   ]
  },
  {
   "cell_type": "markdown",
   "metadata": {},
   "source": [
    "# Load in the data"
   ]
  },
  {
   "cell_type": "code",
   "execution_count": null,
   "metadata": {},
   "outputs": [],
   "source": [
    "# Glob string for images (loads all .tif files)\n",
    "im_glob = os.path.join(data_dir, '*.tif')\n",
    "\n",
    "# Get list of files in directory\n",
    "im_list = sorted(glob.glob(im_glob))\n",
    "\n",
    "# Let's look at the first 10 entries\n",
    "im_list[:10]"
   ]
  },
  {
   "cell_type": "markdown",
   "metadata": {},
   "source": [
    "___"
   ]
  },
  {
   "cell_type": "markdown",
   "metadata": {},
   "source": [
    "# Compute maximum projections\n",
    "Compute maximum pixel value of frames in each channel for each tif file, despeckle images, maximize contrast and then store them in array \"max_ims\":"
   ]
  },
  {
   "cell_type": "markdown",
   "metadata": {},
   "source": [
    "### Compute max projection of each channel and merge channels"
   ]
  },
  {
   "cell_type": "code",
   "execution_count": null,
   "metadata": {},
   "outputs": [],
   "source": [
    "max_ims = []\n",
    "\n",
    "# Set median filter for despeckling\n",
    "selem = skimage.morphology.square(despeckle_parameter)\n",
    "\n",
    "for i, file in enumerate(im_list):\n",
    "           \n",
    "    # Read in each tif file using skimage\n",
    "    image = skimage.io.imread(file)\n",
    "        \n",
    "    # For images containing more than one channel:           \n",
    "    if len(image.shape) == 4:  \n",
    "        # Create matrix of zeros with dimensions for channels with each x and y pixels\n",
    "        max_channels = np.zeros((3, image.shape[2], image.shape[3]))\n",
    "\n",
    "        # Matrix of zeros in the same size as our image (x-pixels, y-pixels)\n",
    "        zeros = np.zeros((image.shape[2], image.shape[3]))\n",
    "\n",
    "        for num, channel in enumerate(image): \n",
    "            # np.max with axis=0 returns the maximum of each column (each row equals to a frame); num = channel\n",
    "            max_channel = image[num].max(axis=0)\n",
    "\n",
    "            if despeckle == True:\n",
    "                max_channel = skimage.filters.rank.median(max_channel, selem)   \n",
    "\n",
    "            if optimize_contrast == True:                \n",
    "                max_channel = skimage.exposure.equalize_adapthist(max_channel)\n",
    "\n",
    "            max_channels[num] = max_channel\n",
    "        \n",
    "        max_ims.append(np.dstack((max_channels[0], max_channels[1], max_channels[2])))\n",
    "        \n",
    "    # For images containing only one channel:        \n",
    "    elif len(image.shape) == 3:  \n",
    "        # Create matrix of zeros with dimensions x and y pixels\n",
    "        max_channels = np.zeros((image.shape[1], image.shape[2]))\n",
    "\n",
    "        # Matrix of zeros in the same size as our image (x-pixels, y-pixels)\n",
    "        zeros = np.zeros((image.shape[1], image.shape[2]))\n",
    "\n",
    "        # np.max with axis=0 returns the maximum of each column (each row equals to a frame)\n",
    "        max_channel = image.max(axis=0)\n",
    "\n",
    "        if despeckle == \"Yes\":\n",
    "            max_channel = skimage.filters.rank.median(max_channel, selem)   \n",
    "\n",
    "        if optimize_contrast == \"Yes\":                \n",
    "            max_channel = skimage.exposure.equalize_adapthist(max_channel)\n",
    "        \n",
    "        max_ims.append(np.dstack((max_channel, zeros, zeros)))\n",
    "        \n",
    "    else:\n",
    "        raise TypeError(\"Image shape should be (channels, frames, x_pixels, y_pixels) or (frames, x_pixels, y_pixels)\")"
   ]
  },
  {
   "cell_type": "markdown",
   "metadata": {},
   "source": [
    "___"
   ]
  },
  {
   "cell_type": "markdown",
   "metadata": {},
   "source": [
    "# Save merged maximum projections"
   ]
  },
  {
   "cell_type": "markdown",
   "metadata": {},
   "source": [
    "#### Scale down images:"
   ]
  },
  {
   "cell_type": "markdown",
   "metadata": {},
   "source": [
    "To save the images using skimage, we need to scale them down to 8 bit."
   ]
  },
  {
   "cell_type": "code",
   "execution_count": null,
   "metadata": {},
   "outputs": [],
   "source": [
    "# Scale down images to 8 bits\n",
    "max_ims_8 = []\n",
    "\n",
    "for i, file in enumerate(max_ims):\n",
    "    # Linearly scale image down to 8-bit.\n",
    "    image = (file / file.max()) * 255\n",
    "\n",
    "    # Change list to array and change type to 8-bit array.\n",
    "    image = np.array(image)\n",
    "    image = image.astype(np.uint8)\n",
    "\n",
    "    max_ims_8.append(image)"
   ]
  },
  {
   "cell_type": "markdown",
   "metadata": {},
   "source": [
    "### Display the first merged maximum projection:"
   ]
  },
  {
   "cell_type": "code",
   "execution_count": null,
   "metadata": {},
   "outputs": [],
   "source": [
    "skimage.io.imshow(max_ims_8[0])"
   ]
  },
  {
   "cell_type": "markdown",
   "metadata": {},
   "source": [
    "#### Burn in scale bars:"
   ]
  },
  {
   "cell_type": "markdown",
   "metadata": {},
   "source": [
    "Scale bar is burned into image by changing the pixel value to 1000 (white scale bar) or 0 (black scale bar) in scale bar area defined in \"parameters\" cell:"
   ]
  },
  {
   "cell_type": "code",
   "execution_count": null,
   "metadata": {},
   "outputs": [],
   "source": [
    "if scale_bar == True:\n",
    "  \n",
    "    max_ims_8_with_scalebars = []\n",
    "\n",
    "    scalebar = 1 / interpixel_distance * scale_bar_length\n",
    "    scalebar_width = 1 / interpixel_distance * scale_bar_width\n",
    "\n",
    "    if scale_bar_color == \"white\":\n",
    "        for image in max_ims_8:\n",
    "            y_value = int((image.shape[0]/100)*y_pos)\n",
    "            x_value = int((image.shape[1]/100)*x_pos) \n",
    "            \n",
    "            image[y_value : y_value + int(scalebar_width), x_value - int(scalebar) : x_value] = 255\n",
    "\n",
    "            # Append to array.\n",
    "            max_ims_8_with_scalebars.append(image)\n",
    "            \n",
    "    elif scale_bar_color == \"black\":\n",
    "        for image in max_ims_8:\n",
    "            y_pos = int((image.shape[0]/100)*y_pos)\n",
    "            x_pos = int((image.shape[1]/100)*x_pos)\n",
    "            \n",
    "            image[y_pos : y_pos + int(scalebar_width), x_pos - int(scalebar) : x_pos] = 0\n",
    "\n",
    "            # Append to new array.\n",
    "            max_ims_8_with_scalebars.append(image)\n",
    "            \n",
    "else:\n",
    "    max_ims_8_with_scalebars = max_ims_8"
   ]
  },
  {
   "cell_type": "markdown",
   "metadata": {},
   "source": [
    "Display one image with scale bar:"
   ]
  },
  {
   "cell_type": "code",
   "execution_count": null,
   "metadata": {},
   "outputs": [],
   "source": [
    "skimage.io.imshow(max_ims_8_with_scalebars[2])"
   ]
  },
  {
   "cell_type": "markdown",
   "metadata": {},
   "source": [
    "### Create max projection folder:"
   ]
  },
  {
   "cell_type": "markdown",
   "metadata": {},
   "source": [
    "Create folder in saving directory to save maximum projections to:"
   ]
  },
  {
   "cell_type": "code",
   "execution_count": null,
   "metadata": {},
   "outputs": [],
   "source": [
    "path = (\"{}/{}_max_projections\").format(saving_dir, im_list[0].split(\"/\")[-2])\n",
    "\n",
    "os.mkdir(path)"
   ]
  },
  {
   "cell_type": "markdown",
   "metadata": {},
   "source": [
    "#### Get image names:"
   ]
  },
  {
   "cell_type": "markdown",
   "metadata": {},
   "source": [
    "Slice out image names:"
   ]
  },
  {
   "cell_type": "code",
   "execution_count": null,
   "metadata": {},
   "outputs": [],
   "source": [
    "# Save the filename of the image in array as a first step to get the image title.\n",
    "files = []\n",
    "\n",
    "for filename in im_list:\n",
    "    files.append(filename.split(\"/\")[-1])\n",
    "\n",
    "# Save image titles in array\n",
    "imnames = []\n",
    "\n",
    "for name in files:\n",
    "    imnames.append(name.split(\".\")[0])"
   ]
  },
  {
   "cell_type": "markdown",
   "metadata": {},
   "source": [
    "#### Save:"
   ]
  },
  {
   "cell_type": "code",
   "execution_count": null,
   "metadata": {},
   "outputs": [],
   "source": [
    "# Save all images with the scale bar.\n",
    "for i, image in enumerate(max_ims_8_with_scalebars):\n",
    "    skimage.io.imsave(\n",
    "        (\"{}/{}_max.{}\").format(path, imnames[i], file_format),\n",
    "        max_ims_8_with_scalebars[i],\n",
    "        plugin=None,\n",
    "        check_contrast=True,\n",
    "    )"
   ]
  },
  {
   "cell_type": "markdown",
   "metadata": {},
   "source": [
    "___"
   ]
  },
  {
   "cell_type": "markdown",
   "metadata": {},
   "source": [
    "# Computing environment"
   ]
  },
  {
   "cell_type": "code",
   "execution_count": null,
   "metadata": {},
   "outputs": [],
   "source": [
    "%load_ext watermark\n",
    "\n",
    "%watermark -v -p glob,os,re,numpy,pandas,skimage,bokeh,bokeh_catplot,jupyterlab"
   ]
  }
 ],
 "metadata": {
  "kernelspec": {
   "display_name": "Python 3",
   "language": "python",
   "name": "python3"
  },
  "language_info": {
   "codemirror_mode": {
    "name": "ipython",
    "version": 3
   },
   "file_extension": ".py",
   "mimetype": "text/x-python",
   "name": "python",
   "nbconvert_exporter": "python",
   "pygments_lexer": "ipython3",
   "version": "3.7.7"
  }
 },
 "nbformat": 4,
 "nbformat_minor": 4
}
