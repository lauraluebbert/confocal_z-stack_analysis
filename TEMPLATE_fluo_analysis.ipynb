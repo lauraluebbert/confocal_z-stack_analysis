{
 "cells": [
  {
   "cell_type": "markdown",
   "metadata": {},
   "source": [
    "# Extraction of pixel values from ROI using sum projection of z-stack image"
   ]
  },
  {
   "cell_type": "markdown",
   "metadata": {},
   "source": [
    "This notebook computes sum projections of z-stack images. The user can then draw ROIs, as well as background areas, manually using the bebi103.image.record_clicks function developed by Justin Bois. The notebook then normalizes each ROI pixel value against the mean pixel value in the background (BG) area. It then saves the raw integrated density (sum of all BG normalized pixel values inside the ROI), as well as the integrated density (product of ROI area (number of pixels in ROI) and mean BG normalized pixel value inside the ROI). Image matrices, ROI coordinates, and pixel values are saved to a dictionary (\"dicts_sum\") and continuously linked to their sample#, channel, condition, and original filename.\n",
    "\n",
    "#### Do not click \"Run all\", but stop at \"STOP\" cells to draw the ROIs BEFORE continuing to run the notebook.\n",
    "\n",
    "#### Name tif files as follows: \n",
    "X_samplecondition_sample_channel , where \"X\" is optional and can be filled as desired by the user (do not use spaces).  \n",
    "- \"Samplecondition\" can be a string of text separated by \"-\", e.g. \"GCaMP-30C-6d_sample_channel\" (Do not use spaces or \"_\" within the condition, else part of it will be cut out in the dictionary.)  \n",
    "- \"Sample\" and \"channel\" can be a simple number or a description, e.g.: \"samplecondition_1_1\" or \"samplecondition_Brain1_DAPI\". (Do not use spaces or \"_\" within the sample or channel.)  \n",
    "\n",
    "Written by Laura Luebbert, 20th of August 2020.  \n",
    "\n",
    "Modified on: / "
   ]
  },
  {
   "cell_type": "markdown",
   "metadata": {},
   "source": [
    "## Define the parameters:"
   ]
  },
  {
   "cell_type": "markdown",
   "metadata": {},
   "source": [
    "### Define the directory containing the tif files:"
   ]
  },
  {
   "cell_type": "code",
   "execution_count": null,
   "metadata": {},
   "outputs": [],
   "source": [
    "data_dir = \"/Users/\""
   ]
  },
  {
   "cell_type": "markdown",
   "metadata": {},
   "source": [
    "### General saving options:"
   ]
  },
  {
   "cell_type": "code",
   "execution_count": null,
   "metadata": {},
   "outputs": [],
   "source": [
    "# Define the directory the pickled dictionaries will be saved to (inside folder named after condition folder)\n",
    "saving_dir = data_dir"
   ]
  },
  {
   "cell_type": "markdown",
   "metadata": {},
   "source": [
    "### Sum projection images saving options:"
   ]
  },
  {
   "cell_type": "code",
   "execution_count": null,
   "metadata": {},
   "outputs": [],
   "source": [
    "# Do you want to save the sum projection of the images? (Define as \"yes\" or \"no\".)\n",
    "save_sum_ims = \"yes\""
   ]
  },
  {
   "cell_type": "markdown",
   "metadata": {},
   "source": [
    "#### If yes, define the following (if not you can skip the following parameters and begin running the notebook):"
   ]
  },
  {
   "cell_type": "markdown",
   "metadata": {},
   "source": [
    "Saving options:"
   ]
  },
  {
   "cell_type": "code",
   "execution_count": null,
   "metadata": {},
   "outputs": [],
   "source": [
    "# Directory the sum projections of the images will be saved to (inside a new folder named after the condition folder)\n",
    "saving_dir_sum = data_dir\n",
    "\n",
    "# Set the file format the images should be saved as\n",
    "file_format = \"tif\""
   ]
  },
  {
   "cell_type": "markdown",
   "metadata": {},
   "source": [
    "Scale bar options:"
   ]
  },
  {
   "cell_type": "code",
   "execution_count": null,
   "metadata": {},
   "outputs": [],
   "source": [
    "# Turn scale bar on/off (define as \"yes\" or \"no\")\n",
    "scale_bar = \"yes\"\n",
    "\n",
    "# Set scalebar color (\"white\" or \"black\")\n",
    "scale_bar_color = \"white\"\n",
    "\n",
    "# Define the desired scale bar size and width in length unit\n",
    "scale_bar_length = 100\n",
    "scale_bar_width = 5\n",
    "\n",
    "# Define position of scale bar:\n",
    "# Distance from top (Distance in % of total length of image)\n",
    "y_pos = 95\n",
    "# Distance of rightmost end of scale bar from left end of image (Distance in % of total length of image)\n",
    "x_pos = 95"
   ]
  },
  {
   "cell_type": "markdown",
   "metadata": {},
   "source": [
    "Define microscope and magnification (to get interpixel distance) OR define interpixel distance directly if different microscope/magnification used:"
   ]
  },
  {
   "cell_type": "code",
   "execution_count": null,
   "metadata": {},
   "outputs": [],
   "source": [
    "# Define microscope used (\"Lois\", \"LSM800\" or \"other\")\n",
    "microscope = \"Lois\"\n",
    "\n",
    "# Define magnification (\"20\" or \"other\")\n",
    "magnification = \"20\"\n",
    "\n",
    "# Uncomment (remove the #) and define interpixel distance if different microscope/magnification used:\n",
    "# interpixel_distance = \n",
    "\n",
    "length_units = \"µm\""
   ]
  },
  {
   "cell_type": "markdown",
   "metadata": {},
   "source": [
    "___"
   ]
  },
  {
   "cell_type": "markdown",
   "metadata": {},
   "source": [
    "___"
   ]
  },
  {
   "cell_type": "code",
   "execution_count": null,
   "metadata": {},
   "outputs": [],
   "source": [
    "# %load_ext blackcellmagic\n",
    "%config InlineBackend.figure_format = 'retina'"
   ]
  },
  {
   "cell_type": "code",
   "execution_count": null,
   "metadata": {},
   "outputs": [],
   "source": [
    "# Tools to read in the image files and filenames\n",
    "import glob\n",
    "import os\n",
    "import re \n",
    "\n",
    "# Calculation and data frame tools\n",
    "import numpy as np\n",
    "import pandas as pd\n",
    "\n",
    "# Image processing tools\n",
    "import bebi103\n",
    "import skimage\n",
    "import skimage.io\n",
    "import skimage.morphology\n",
    "\n",
    "# Tools to create new folders\n",
    "from pathlib import Path\n",
    "\n",
    "# Tools to save dictionaries\n",
    "import pickle\n",
    "\n",
    "# (Interactive) plotting tools\n",
    "import bokeh\n",
    "import bokeh_catplot\n",
    "bokeh.io.output_notebook()"
   ]
  },
  {
   "cell_type": "markdown",
   "metadata": {},
   "source": [
    "___"
   ]
  },
  {
   "cell_type": "markdown",
   "metadata": {},
   "source": [
    "# Load in the data"
   ]
  },
  {
   "cell_type": "code",
   "execution_count": null,
   "metadata": {},
   "outputs": [],
   "source": [
    "# Glob string for images (loads all .tif files)\n",
    "im_glob = os.path.join(data_dir, \"*.tif\")\n",
    "\n",
    "# Get list of files in directory\n",
    "im_list = sorted(glob.glob(im_glob))\n",
    "\n",
    "# Display first 10 entries in list of filenames\n",
    "im_list[:10]"
   ]
  },
  {
   "cell_type": "markdown",
   "metadata": {},
   "source": [
    "Create a nested dictionary with information about each sample coupled to the z-stack image matrix, as well as space for matrices added later:"
   ]
  },
  {
   "cell_type": "code",
   "execution_count": null,
   "metadata": {},
   "outputs": [],
   "source": [
    "dicts_sum = {}\n",
    "\n",
    "for i in range(len(im_list)):\n",
    "    # Get sample condition\n",
    "    condition = im_list[i].split(\"/\")[-1].split(\"_\")[-3]\n",
    "    \n",
    "    # Make sure we do not overwrite a previous dictionary entry    \n",
    "    if dicts_sum.get(condition) == None:\n",
    "        dicts_sum[condition] = {}\n",
    "    \n",
    "    # Get sample number\n",
    "    sample = im_list[i].split(\"/\")[-1].split(\"_\")[-2]\n",
    "    \n",
    "    # Make sure we do not overwrite a previous dictionary entry\n",
    "    if dicts_sum.get(condition, {}).get(sample) == None:\n",
    "        dicts_sum[condition][sample] = {}\n",
    "    \n",
    "    # Get channel number    \n",
    "    channel = im_list[i].split(\"/\")[-1].split(\"_\")[-1].split(\".\")[0]\n",
    "    \n",
    "    # Add empty arrays to dictionary to populate with images later\n",
    "    dicts_sum[condition][sample][channel] = {\n",
    "        \"matrix_orig\": [],  # Original image z-stack matrix \n",
    "        \"matrix_sum\": [],   # Image matrix of sum projection image \n",
    "        \"matrix_8\": [],     # Image matrix of sum projection image as 8-bit \n",
    "        \"matrix_8_SB\": [],  # Image matrix of sum projection image as 8-bit with scale bar \n",
    "        \"filename\": [],     # The original filename, just in case\n",
    "        \"clicks\": [],       # The coordinates of \"clicks\" defining the ROI \n",
    "        \"rois\": [],         # ROI clicks converted to an ROI (polygon) \n",
    "        \"clicks_bg\": [],    # The coordinates of \"clicks\" defining the background area to normalize against \n",
    "        \"rois_bg\": [],      # BG area clicks converted to a polygon\n",
    "        \"mean_int\": [],     # Mean pixel value in ROI\n",
    "        \"mean_int_bg\": [],  # Mean pixel value in BG area\n",
    "        \"raw_int_den\": [],  # Raw integrated density of ROI (sum of all BG normalized pixel values inside the ROI) \n",
    "        \"int_den\": []       # Integrated density of ROI (product of ROI area and mean BG normalized pixel value inside the ROI)\n",
    "    }\n",
    "    \n",
    "    # Populate dictionary with original image matrix\n",
    "    dicts_sum[condition][sample][channel][\"matrix_orig\"] = skimage.io.imread(im_list[i])\n",
    "    \n",
    "    # Populate dictionary with original filename\n",
    "    dicts_sum[condition][sample][channel][\"filename\"] = im_list[i].split(\"/\")[-1].split(\".\")[-2]"
   ]
  },
  {
   "cell_type": "markdown",
   "metadata": {},
   "source": [
    "___"
   ]
  },
  {
   "cell_type": "markdown",
   "metadata": {},
   "source": [
    "# Get the interpixel distance"
   ]
  },
  {
   "cell_type": "code",
   "execution_count": null,
   "metadata": {},
   "outputs": [],
   "source": [
    "if microscope == \"LSM800\":\n",
    "    if magnification == \"20\":\n",
    "        interpixel_distance = 0.3119629\n",
    "        \n",
    "if microscope == \"Lois\":\n",
    "    if magnification == \"20\":\n",
    "        interpixel_distance = 0.690534"
   ]
  },
  {
   "cell_type": "markdown",
   "metadata": {},
   "source": [
    "___"
   ]
  },
  {
   "cell_type": "markdown",
   "metadata": {},
   "source": [
    "# Create sum projections for fluorescence analysis"
   ]
  },
  {
   "cell_type": "markdown",
   "metadata": {},
   "source": [
    "Compute sum of frames for each image:"
   ]
  },
  {
   "cell_type": "code",
   "execution_count": null,
   "metadata": {},
   "outputs": [],
   "source": [
    "for k1_condition, v1_sample in dicts_sum.items():\n",
    "    for k2_sample, v2_channel in v1_sample.items():\n",
    "        for k3_channel, im in v2_channel.items():\n",
    "            # Convert dict entry to array\n",
    "            image = np.array(im[\"matrix_orig\"])\n",
    "\n",
    "            # Sum z-project using numpy by definining the axis over which to sum the elements.\n",
    "            summed_image = image.sum(axis=0)\n",
    "\n",
    "            # Linearly scale down to 16-bit.\n",
    "            summed_image = (summed_image/summed_image.max())*65535\n",
    "\n",
    "            # Save summed image to dictionary\n",
    "            dicts_sum[k1_condition][k2_sample][k3_channel][\"matrix_sum\"] = summed_image"
   ]
  },
  {
   "cell_type": "markdown",
   "metadata": {},
   "source": [
    "Display one sum projection image using skimage:"
   ]
  },
  {
   "cell_type": "code",
   "execution_count": null,
   "metadata": {},
   "outputs": [],
   "source": [
    "skimage.io.imshow(dicts_sum[k1_condition][k2_sample][k3_channel][\"matrix_sum\"])"
   ]
  },
  {
   "cell_type": "markdown",
   "metadata": {},
   "source": [
    "___"
   ]
  },
  {
   "cell_type": "markdown",
   "metadata": {},
   "source": [
    "# Save sum projection images \n",
    "(Turn this option on at the top of this notebook under \"parameters\".)"
   ]
  },
  {
   "cell_type": "markdown",
   "metadata": {},
   "source": [
    "#### Scale down images:"
   ]
  },
  {
   "cell_type": "markdown",
   "metadata": {},
   "source": [
    "To save the images using skimage, we need to scale them down to 8 bit."
   ]
  },
  {
   "cell_type": "code",
   "execution_count": null,
   "metadata": {},
   "outputs": [],
   "source": [
    "if save_sum_ims == \"yes\":\n",
    "    # Scale down images to 8 bits\n",
    "    for k1_condition, v1_sample in dicts_sum.items():\n",
    "        for k2_sample, v2_channel in v1_sample.items():\n",
    "            for k3_channel, im in v2_channel.items():\n",
    "                # Linearly scale image down to 8-bit.\n",
    "                image = (im[\"matrix_sum\"] / im[\"matrix_sum\"].max()) * 255\n",
    "\n",
    "                # Change list to array and change type to 8-bit array.\n",
    "                image = np.array(image)\n",
    "                image = image.astype(np.uint8)\n",
    "\n",
    "                dicts_sum[k1_condition][k2_sample][k3_channel][\"matrix_8\"] = image"
   ]
  },
  {
   "cell_type": "markdown",
   "metadata": {},
   "source": [
    "#### Burn in scale bars:"
   ]
  },
  {
   "cell_type": "markdown",
   "metadata": {},
   "source": [
    "Scale bar is burned into image by changing the pixel value to 1000 (white scale bar) or 0 (black scale bar) in scale bar area defined in the corresponding \"parameters\" cell above:"
   ]
  },
  {
   "cell_type": "code",
   "execution_count": null,
   "metadata": {},
   "outputs": [],
   "source": [
    "if save_sum_ims == \"yes\":\n",
    "    if scale_bar == \"yes\":\n",
    "\n",
    "        scalebar = 1 / interpixel_distance * scale_bar_length\n",
    "        scalebar_width = 1 / interpixel_distance * scale_bar_width\n",
    "\n",
    "        if scale_bar_color == \"white\":\n",
    "            for k1_condition, v1_sample in dicts_sum.items():\n",
    "                for k2_sample, v2_channel in v1_sample.items():\n",
    "                    for k3_channel, im in v2_channel.items():\n",
    "                        y_value = int((im[\"matrix_8\"].shape[0]/100)*y_pos)\n",
    "                        x_value = int((im[\"matrix_8\"].shape[1]/100)*x_pos) \n",
    "\n",
    "                        im[\"matrix_8\"][y_value : y_value + int(scalebar_width), x_value - int(scalebar) : x_value] = 255\n",
    "\n",
    "                        # Populate dict with 8-bit images containing a scale bar\n",
    "                        dicts_sum[k1_condition][k2_sample][k3_channel][\"matrix_8_SB\"] = im[\"matrix_8\"]\n",
    "\n",
    "        elif scale_bar_color == \"black\":\n",
    "            for k1_condition, v1_sample in dicts_sum.items():\n",
    "                for k2_sample, v2_channel in v1_sample.items():\n",
    "                    for k3_channel, im in v2_channel.items():\n",
    "                        y_pos = int((im[\"matrix_8\"].shape[0]/100)*y_pos)\n",
    "                        x_pos = int((im[\"matrix_8\"].shape[1]/100)*x_pos)\n",
    "\n",
    "                        im[\"matrix_8\"][y_pos : y_pos + int(scalebar_width), x_pos - int(scalebar) : x_pos] = 0\n",
    "\n",
    "                        # Populate dict with 8-bit images containing a scale bar\n",
    "                        dicts_sum[k1_condition][k2_sample][k3_channel][\"matrix_8_SB\"] = im[\"matrix_8\"]\n",
    "\n",
    "    else:\n",
    "        for k1_condition, v1_sample in dicts_sum.items():\n",
    "            for k2_sample, v2_channel in v1_sample.items():\n",
    "                for k3_channel, im in v2_channel.items():\n",
    "\n",
    "                    dicts_sum[k1_condition][k2_sample][k3_channel][\"matrix_8_SB\"] = im[\"matrix_8\"]"
   ]
  },
  {
   "cell_type": "markdown",
   "metadata": {},
   "source": [
    "Display one image with scale bar:"
   ]
  },
  {
   "cell_type": "code",
   "execution_count": null,
   "metadata": {},
   "outputs": [],
   "source": [
    "if save_sum_ims == \"yes\":\n",
    "    skimage.io.imshow(dicts_sum[k1_condition][k2_sample][k3_channel][\"matrix_8_SB\"])"
   ]
  },
  {
   "cell_type": "markdown",
   "metadata": {},
   "source": [
    "### Create sum projection folder:"
   ]
  },
  {
   "cell_type": "markdown",
   "metadata": {},
   "source": [
    "Create folder in saving directory to save maximum projections to:"
   ]
  },
  {
   "cell_type": "code",
   "execution_count": null,
   "metadata": {},
   "outputs": [],
   "source": [
    "if save_sum_ims == \"yes\":\n",
    "    path = (\"{}/{}_sum_projections\").format(saving_dir, im_list[0].split(\"/\")[-2])\n",
    "    Path(path).mkdir(parents=True, exist_ok=True)"
   ]
  },
  {
   "cell_type": "markdown",
   "metadata": {},
   "source": [
    "### Save all images with a scale bar:"
   ]
  },
  {
   "cell_type": "code",
   "execution_count": null,
   "metadata": {},
   "outputs": [],
   "source": [
    "if save_sum_ims == \"yes\":\n",
    "    for k1_condition, v1_sample in dicts_sum.items():\n",
    "        for k2_sample, v2_channel in v1_sample.items():\n",
    "            for k3_channel, im in v2_channel.items():\n",
    "                skimage.io.imsave(\n",
    "                    (\"{}/{}_sum.{}\").format(path, im[\"filename\"], file_format),\n",
    "                    im[\"matrix_8_SB\"],\n",
    "                    plugin=None,\n",
    "                    check_contrast=True,\n",
    "                )"
   ]
  },
  {
   "cell_type": "markdown",
   "metadata": {},
   "source": [
    "___"
   ]
  },
  {
   "cell_type": "markdown",
   "metadata": {},
   "source": [
    "# Define ROIs "
   ]
  },
  {
   "cell_type": "markdown",
   "metadata": {},
   "source": [
    "### Click points around area of interest to define an ROI (only draw one ROI)\n",
    "#### If you get an error using the bebi103.image.record_clicks package below, make sure to use websocket 8888. (Define localhost:8888/ in your URL.)"
   ]
  },
  {
   "cell_type": "markdown",
   "metadata": {},
   "source": [
    "\"By default in bebi103.image.imshow(), the flip kwarg is set to True. This means that the image is flipped vertically so that it appears rightside up, since the indexing convention for images (2D arrays) starts in the upper left corner, but for axes, the origin is conventionally in the lower left corner. For recording clicks for use in image processing, you should be sure that the flip kwarg is False.\" - JB"
   ]
  },
  {
   "cell_type": "code",
   "execution_count": null,
   "metadata": {},
   "outputs": [],
   "source": [
    "for k1_condition, v1_sample in dicts_sum.items():\n",
    "    for k2_sample, v2_channel in v1_sample.items():\n",
    "        for k3_channel, im in v2_channel.items():\n",
    "            temp = bebi103.image.record_clicks(\n",
    "                dicts_sum[k1_condition][k2_sample][k3_channel][\"matrix_sum\"],\n",
    "                frame_height=500,\n",
    "                title=dicts_sum[k1_condition][k2_sample][k3_channel][\"filename\"],\n",
    "                flip=False\n",
    "            )\n",
    "\n",
    "            # Save clicks to dictionary\n",
    "            dicts_sum[k1_condition][k2_sample][k3_channel][\"clicks\"] = temp"
   ]
  },
  {
   "cell_type": "markdown",
   "metadata": {},
   "source": [
    "# STOP"
   ]
  },
  {
   "cell_type": "markdown",
   "metadata": {},
   "source": [
    "Convert clicks to a tidy data frame:"
   ]
  },
  {
   "cell_type": "code",
   "execution_count": null,
   "metadata": {},
   "outputs": [],
   "source": [
    "for k1_condition, v1_sample in dicts_sum.items():\n",
    "    for k2_sample, v2_channel in v1_sample.items():\n",
    "        for k3_channel, im in v2_channel.items():\n",
    "            temp = dicts_sum[k1_condition][k2_sample][k3_channel][\"clicks\"].to_df()\n",
    "\n",
    "            # Add \"roi\" column (in this case there is just one ROI per sample with number \"0\")\n",
    "            temp[\"roi\"] = 0\n",
    "\n",
    "            # Save clicks to dictionary as tidy data frame (this will overwrite the previously saved version of the clicks!)\n",
    "            dicts_sum[k1_condition][k2_sample][k3_channel][\"clicks\"] = temp"
   ]
  },
  {
   "cell_type": "markdown",
   "metadata": {},
   "source": [
    "Use the bebi103.image.verts_to_roi function to convert the set of vertices (clicks) that define a polygon to a region of interest (the inside of the polygon):"
   ]
  },
  {
   "cell_type": "code",
   "execution_count": null,
   "metadata": {},
   "outputs": [],
   "source": [
    "for k1_condition, v1_sample in dicts_sum.items():\n",
    "    for k2_sample, v2_channel in v1_sample.items():\n",
    "        for k3_channel, im in v2_channel.items():\n",
    "            dicts_sum[k1_condition][k2_sample][k3_channel][\"rois\"] = [bebi103.image.verts_to_roi(dicts_sum[k1_condition][k2_sample][k3_channel][\"clicks\"][['x', 'y']].values, \n",
    "                                        dicts_sum[k1_condition][k2_sample][k3_channel][\"matrix_sum\"].shape[0], \n",
    "                                        dicts_sum[k1_condition][k2_sample][k3_channel][\"matrix_sum\"].shape[1])\n",
    "            for _, g in dicts_sum[k1_condition][k2_sample][k3_channel][\"clicks\"].groupby('roi')]"
   ]
  },
  {
   "cell_type": "markdown",
   "metadata": {},
   "source": [
    "Check that the ROIs are correct:"
   ]
  },
  {
   "cell_type": "code",
   "execution_count": null,
   "metadata": {},
   "outputs": [],
   "source": [
    "plots = []\n",
    "\n",
    "for k1_condition, v1_sample in dicts_sum.items():\n",
    "    for k2_sample, v2_channel in v1_sample.items():\n",
    "        for k3_channel, im in v2_channel.items():\n",
    "            # The function above return 3 representation of our ROI:\n",
    "            # roi = Boolean matrix (mask) in the size of my original image with \"True\" values where the ROI is\n",
    "            # roi_bbox = Bounding box around ROI\n",
    "            # roi_box = Boolean matrix in the size of the bounding box (roi_bbox) with \"True\" values where the ROI is\n",
    "            roi, roi_bbox, roi_box = dicts_sum[k1_condition][k2_sample][k3_channel][\"rois\"][0]\n",
    "\n",
    "            # Make grayscale image that is now RBG/CMY\n",
    "            im = np.dstack(3 * [skimage.img_as_float(dicts_sum[k1_condition][k2_sample][k3_channel][\"matrix_sum\"])])\n",
    "\n",
    "            # Max out first channel\n",
    "            im[roi, 0] = im.max()\n",
    "            plots.append(\n",
    "                bebi103.image.imshow(\n",
    "                    im,\n",
    "                    title=dicts_sum[k1_condition][k2_sample][k3_channel][\"filename\"],\n",
    "                    frame_height=250,\n",
    "                    cmap=\"rgb\",\n",
    "                    flip=False,\n",
    "                )\n",
    "            )\n",
    "\n",
    "# Look at the images\n",
    "bokeh.io.show(bokeh.layouts.gridplot(plots, ncols=3))"
   ]
  },
  {
   "cell_type": "markdown",
   "metadata": {},
   "source": [
    "### Save mean fluorescence value from ROI"
   ]
  },
  {
   "cell_type": "code",
   "execution_count": null,
   "metadata": {},
   "outputs": [],
   "source": [
    "for k1_condition, v1_sample in dicts_sum.items():\n",
    "    for k2_sample, v2_channel in v1_sample.items():\n",
    "        for k3_channel, im in v2_channel.items():\n",
    "            roi, roi_bbox, roi_box = dicts_sum[k1_condition][k2_sample][k3_channel][\"rois\"][0]\n",
    "            im = dicts_sum[k1_condition][k2_sample][k3_channel][\"matrix_sum\"][roi]\n",
    "\n",
    "            # Save fluorescence intensity of ROI to dictionary\n",
    "            dicts_sum[k1_condition][k2_sample][k3_channel][\"mean_int\"] = im.mean()"
   ]
  },
  {
   "cell_type": "markdown",
   "metadata": {},
   "source": [
    "___"
   ]
  },
  {
   "cell_type": "markdown",
   "metadata": {},
   "source": [
    "# Define background fluorescence area"
   ]
  },
  {
   "cell_type": "markdown",
   "metadata": {},
   "source": [
    "Define a small square outside of the ROI which is representative of the background fluorescence. Each pixel of the ROI will be divided by the average pixel value of the background before the overall fluorecence in the ROI is summed.  "
   ]
  },
  {
   "cell_type": "code",
   "execution_count": null,
   "metadata": {},
   "outputs": [],
   "source": [
    "for k1_condition, v1_sample in dicts_sum.items():\n",
    "    for k2_sample, v2_channel in v1_sample.items():\n",
    "        for k3_channel, im in v2_channel.items():\n",
    "            temp = bebi103.image.record_clicks(\n",
    "                dicts_sum[k1_condition][k2_sample][k3_channel][\"matrix_sum\"],\n",
    "                frame_height=500,\n",
    "                title=dicts_sum[k1_condition][k2_sample][k3_channel][\"filename\"],\n",
    "                flip=False\n",
    "            )\n",
    "\n",
    "            # Save clicks to dictionary\n",
    "            dicts_sum[k1_condition][k2_sample][k3_channel][\"clicks_bg\"] = temp"
   ]
  },
  {
   "cell_type": "markdown",
   "metadata": {},
   "source": [
    "# STOP"
   ]
  },
  {
   "cell_type": "markdown",
   "metadata": {},
   "source": [
    "Convert clicks to a tidy data frame:"
   ]
  },
  {
   "cell_type": "code",
   "execution_count": null,
   "metadata": {},
   "outputs": [],
   "source": [
    "for k1_condition, v1_sample in dicts_sum.items():\n",
    "    for k2_sample, v2_channel in v1_sample.items():\n",
    "        for k3_channel, im in v2_channel.items():\n",
    "            temp = dicts_sum[k1_condition][k2_sample][k3_channel][\"clicks_bg\"].to_df()\n",
    "\n",
    "            # Add \"roi\" column (in this case there is just one ROI per sample with number \"0\")\n",
    "            temp[\"roi\"] = 0\n",
    "\n",
    "            # Save clicks to dictionary as tidy data frame (this will overwrite the previously saved version of the clicks!)\n",
    "            dicts_sum[k1_condition][k2_sample][k3_channel][\"clicks_bg\"] = temp"
   ]
  },
  {
   "cell_type": "markdown",
   "metadata": {},
   "source": [
    "Use the bebi103.image.verts_to_roi function to convert the set of vertices (clicks) that define a polygon to a region of interest (the inside of the polygon):"
   ]
  },
  {
   "cell_type": "code",
   "execution_count": null,
   "metadata": {},
   "outputs": [],
   "source": [
    "for k1_condition, v1_sample in dicts_sum.items():\n",
    "    for k2_sample, v2_channel in v1_sample.items():\n",
    "        for k3_channel, im in v2_channel.items():\n",
    "            dicts_sum[k1_condition][k2_sample][k3_channel][\"rois_bg\"] = [bebi103.image.verts_to_roi(dicts_sum[k1_condition][k2_sample][k3_channel][\"clicks_bg\"][['x', 'y']].values, \n",
    "                                        dicts_sum[k1_condition][k2_sample][k3_channel][\"matrix_sum\"].shape[0], \n",
    "                                        dicts_sum[k1_condition][k2_sample][k3_channel][\"matrix_sum\"].shape[1])\n",
    "            for _, g in dicts_sum[k1_condition][k2_sample][k3_channel][\"clicks_bg\"].groupby('roi')]"
   ]
  },
  {
   "cell_type": "markdown",
   "metadata": {},
   "source": [
    "Check that background areas were drawn correctly:"
   ]
  },
  {
   "cell_type": "code",
   "execution_count": null,
   "metadata": {},
   "outputs": [],
   "source": [
    "plots = []\n",
    "\n",
    "for k1_condition, v1_sample in dicts_sum.items():\n",
    "    for k2_sample, v2_channel in v1_sample.items():\n",
    "        for k3_channel, im in v2_channel.items():\n",
    "            # The function above return 3 representation of our ROI:\n",
    "            # roi = Boolean matrix (mask) in the size of my original image with \"True\" values where the ROI is\n",
    "            # roi_bbox = Bounding box around ROI\n",
    "            # roi_box = Boolean matrix in the size of the bounding box (roi_bbox) with \"True\" values where the ROI is\n",
    "            roi, roi_bbox, roi_box = dicts_sum[k1_condition][k2_sample][k3_channel][\"rois_bg\"][0]\n",
    "\n",
    "            # Make grayscale image that is now RBG/CMY\n",
    "            im = np.dstack(3 * [skimage.img_as_float(dicts_sum[k1_condition][k2_sample][k3_channel][\"matrix_sum\"])])\n",
    "\n",
    "            # Max out pixel value in first channel\n",
    "            im[roi, 0] = im.max()\n",
    "\n",
    "            plots.append(\n",
    "                bebi103.image.imshow(\n",
    "                    im,\n",
    "                    title=dicts_sum[k1_condition][k2_sample][k3_channel][\"filename\"],\n",
    "                    frame_height=250,\n",
    "                    cmap=\"rgb\",\n",
    "                    flip=False,\n",
    "                )\n",
    "            )\n",
    "\n",
    "# Look at the images\n",
    "bokeh.io.show(bokeh.layouts.gridplot(plots, ncols=3))"
   ]
  },
  {
   "cell_type": "markdown",
   "metadata": {},
   "source": [
    "# Save mean fluorescence value from background area"
   ]
  },
  {
   "cell_type": "code",
   "execution_count": null,
   "metadata": {},
   "outputs": [],
   "source": [
    "for k1_condition, v1_sample in dicts_sum.items():\n",
    "    for k2_sample, v2_channel in v1_sample.items():\n",
    "        for k3_channel, im in v2_channel.items():\n",
    "            roi, roi_bbox, roi_box = dicts_sum[k1_condition][k2_sample][k3_channel][\"rois_bg\"][0]\n",
    "            im = dicts_sum[k1_condition][k2_sample][k3_channel][\"matrix_sum\"][roi]\n",
    "\n",
    "            # Save fluorescence intensity of ROI to dictionary\n",
    "            dicts_sum[k1_condition][k2_sample][k3_channel][\"mean_int_bg\"] = im.mean()"
   ]
  },
  {
   "cell_type": "markdown",
   "metadata": {},
   "source": [
    "___"
   ]
  },
  {
   "cell_type": "markdown",
   "metadata": {},
   "source": [
    "# Compute raw integrated density and integrated density of ROI from BG normalized pixel values"
   ]
  },
  {
   "cell_type": "code",
   "execution_count": null,
   "metadata": {},
   "outputs": [],
   "source": [
    "for k1_condition, v1_sample in dicts_sum.items():\n",
    "    for k2_sample, v2_channel in v1_sample.items():\n",
    "        for k3_channel, im in v2_channel.items():    \n",
    "            roi, roi_bbox, roi_box = dicts_sum[k1_condition][k2_sample][k3_channel][\"rois\"][0]\n",
    "            im = dicts_sum[k1_condition][k2_sample][k3_channel][\"matrix_sum\"][roi]\n",
    "\n",
    "            pixel_norm = []\n",
    "\n",
    "            # Divide each pixel value by the average background pixel value\n",
    "            for pixel in im:\n",
    "                pixel_norm.append(pixel / dicts_sum[k1_condition][k2_sample][k3_channel][\"mean_int_bg\"])\n",
    "\n",
    "            # Save raw integrated density of ROI to dictionary\n",
    "            dicts_sum[k1_condition][k2_sample][k3_channel][\"raw_int_den\"] = sum(pixel_norm)\n",
    "            \n",
    "            ## Save integrated density of ROI to dictionary\n",
    "            # Calculate the number of pixels in the ROI\n",
    "            roi_area = 0\n",
    "            for i in range(len(roi)):\n",
    "                x = np.sum(roi[i])\n",
    "                roi_area = roi_area + x\n",
    "                \n",
    "            pixel_norm = np.array(pixel_norm)\n",
    "                \n",
    "            dicts_sum[k1_condition][k2_sample][k3_channel][\"int_den\"] = pixel_norm.mean() * roi_area"
   ]
  },
  {
   "cell_type": "markdown",
   "metadata": {},
   "source": [
    "___"
   ]
  },
  {
   "cell_type": "markdown",
   "metadata": {},
   "source": [
    "# Pickle sum fluorescence dictionary for later use\n",
    "This dictionary contains the sum fluorescence images, names of the images, clicks as data frame, rois and the sum of the pixel intensity values inside the roi.   "
   ]
  },
  {
   "cell_type": "code",
   "execution_count": null,
   "metadata": {},
   "outputs": [],
   "source": [
    "path = (\"{}\").format(saving_dir)"
   ]
  },
  {
   "cell_type": "code",
   "execution_count": null,
   "metadata": {},
   "outputs": [],
   "source": [
    "# Use pickle to save dictionaries\n",
    "\n",
    "# The advantage of HIGHEST_PROTOCOL is that files get smaller. This makes unpickling sometimes much faster.\n",
    "with open(\n",
    "    (\"{}/{}_fluorescence_analysis.pickle\").format(path, im_list[0].split(\"/\")[-2]),\n",
    "    \"wb\",\n",
    ") as handle:\n",
    "    pickle.dump(dicts_sum, handle, protocol=pickle.HIGHEST_PROTOCOL)"
   ]
  },
  {
   "cell_type": "markdown",
   "metadata": {},
   "source": [
    "___"
   ]
  },
  {
   "cell_type": "markdown",
   "metadata": {},
   "source": [
    "# Create a data frame and csv file for comparison of pixel values across conditions"
   ]
  },
  {
   "cell_type": "code",
   "execution_count": null,
   "metadata": {},
   "outputs": [],
   "source": [
    "df = pd.DataFrame()\n",
    "\n",
    "for k1_condition, v1_sample in dicts_sum.items():\n",
    "    for k2_sample, v2_channel in v1_sample.items():\n",
    "        for k3_channel, im in v2_channel.items(): \n",
    "            df = df.append(\n",
    "                {\"Filename\" : dicts_sum[k1_condition][k2_sample][k3_channel][\"filename\"],\n",
    "                 \"Condition\" : k1_condition,\n",
    "                 \"Sample\" : k2_sample,\n",
    "                 \"Channel\" : k3_channel,\n",
    "                 \"Condition + Channel\" : (k1_condition + \" (\" + k3_channel + \")\"),\n",
    "                 \"Mean pixel value in ROI\" : dicts_sum[k1_condition][k2_sample][k3_channel][\"mean_int\"],\n",
    "                 \"Mean pixel value in BG area\" : dicts_sum[k1_condition][k2_sample][k3_channel][\"mean_int_bg\"],\n",
    "                 \"Raw integrated density\" : dicts_sum[k1_condition][k2_sample][k3_channel][\"raw_int_den\"],\n",
    "                 \"Integrated density\" : dicts_sum[k1_condition][k2_sample][k3_channel][\"int_den\"]}, ignore_index=True)           "
   ]
  },
  {
   "cell_type": "code",
   "execution_count": null,
   "metadata": {},
   "outputs": [],
   "source": [
    "# Display top of data frame\n",
    "df.head()"
   ]
  },
  {
   "cell_type": "markdown",
   "metadata": {},
   "source": [
    "___"
   ]
  },
  {
   "cell_type": "markdown",
   "metadata": {},
   "source": [
    "# Rescale fluorescence values from 0 to 1"
   ]
  },
  {
   "cell_type": "markdown",
   "metadata": {},
   "source": [
    "Since the intensity units are arbitrary, we can subtract the mean and rescale the data so they go from 0 to 1:"
   ]
  },
  {
   "cell_type": "code",
   "execution_count": null,
   "metadata": {},
   "outputs": [],
   "source": [
    "fluorescence_norm = []\n",
    "\n",
    "for i, value in enumerate(df[\"Integrated density\"]):\n",
    "    fluorescence_norm.append(\n",
    "        (value - df[\"Integrated density\"].min())\n",
    "        / (df[\"Integrated density\"].max() - df[\"Integrated density\"].min())\n",
    "    )\n",
    "\n",
    "df[\"Integrated density 0-1\"] = fluorescence_norm"
   ]
  },
  {
   "cell_type": "code",
   "execution_count": null,
   "metadata": {},
   "outputs": [],
   "source": [
    "# Sort the data frame by condition\n",
    "df = pd.DataFrame.sort_values(df, \"Condition\", ascending=False)"
   ]
  },
  {
   "cell_type": "code",
   "execution_count": null,
   "metadata": {},
   "outputs": [],
   "source": [
    "# Display top of data frame\n",
    "df.head()"
   ]
  },
  {
   "cell_type": "markdown",
   "metadata": {},
   "source": [
    "___"
   ]
  },
  {
   "cell_type": "markdown",
   "metadata": {},
   "source": [
    "# Save dataframe to csv"
   ]
  },
  {
   "cell_type": "code",
   "execution_count": null,
   "metadata": {},
   "outputs": [],
   "source": [
    "df.to_csv(\"{}/{}_fluorescence_analysis.csv\".format(saving_dir, data_dir.split(\"/\")[-1]), index=False)"
   ]
  },
  {
   "cell_type": "markdown",
   "metadata": {},
   "source": [
    "___"
   ]
  },
  {
   "cell_type": "markdown",
   "metadata": {},
   "source": [
    "# Plotting"
   ]
  },
  {
   "cell_type": "code",
   "execution_count": null,
   "metadata": {},
   "outputs": [],
   "source": [
    "# Sort the data frame by channel to separate them in plots\n",
    "df = pd.DataFrame.sort_values(df, \"Channel\", ascending=False)"
   ]
  },
  {
   "cell_type": "markdown",
   "metadata": {},
   "source": [
    "Example scatter plot using Matplotlib:"
   ]
  },
  {
   "cell_type": "code",
   "execution_count": null,
   "metadata": {},
   "outputs": [],
   "source": [
    "names = df[\"Condition + Channel\"]\n",
    "values = df[\"Integrated density 0-1\"]\n",
    "\n",
    "color = \"black\"\n",
    "dotsize = 20\n",
    "\n",
    "fig, ax = plt.subplots(figsize=(20, 7))\n",
    "\n",
    "plt.scatter(names, values, c=color, s=dotsize)\n",
    "\n",
    "# Define figure title\n",
    "ax.set_title('Relative fluorescence units across conditions', weight='bold', size=17)\n",
    "\n",
    "# Set axis labels\n",
    "fontsize = 13\n",
    "fontweight = 'bold'\n",
    "fontproperties = {'weight':fontweight, 'size':fontsize}\n",
    "ax.set_xlabel('Condition', fontproperties)\n",
    "ax.set_ylabel('Relative Fluorescence Units', fontproperties)"
   ]
  },
  {
   "cell_type": "markdown",
   "metadata": {},
   "source": [
    "Example boxplot using Matplotlib:"
   ]
  },
  {
   "cell_type": "code",
   "execution_count": null,
   "metadata": {},
   "outputs": [],
   "source": [
    "names = df[\"Condition\"]\n",
    "values = df[\"Integrated density 0-1\"]\n",
    "\n",
    "color = \"black\"\n",
    "dotsize = 20\n",
    "\n",
    "fig, ax = plt.subplots(figsize=(20, 7))\n",
    "\n",
    "labels = names.unique()\n",
    "\n",
    "# Create boxplot\n",
    "boxplot = []\n",
    "for i in names.unique():\n",
    "    boxplot.append(df.loc[df['Condition']==i, :][\"Integrated density 0-1\"].values)\n",
    "\n",
    "# ax.boxplot(boxplot) \n",
    "b_plot = ax.boxplot(boxplot, labels=labels) \n",
    "for patch in b_plot[\"boxes\"]:\n",
    "    patch.set_alpha(0.2)\n",
    "\n",
    "# Overlay scatter plot\n",
    "ax.scatter(pd.factorize(names)[0]+1, values, s=dotsize, zorder=10, c=color)\n",
    "\n",
    "# Define figure title\n",
    "ax.set_title('Relative fluorescence units across conditions',weight='bold',size=17)\n",
    "\n",
    "# Set axis labels\n",
    "fontsize = 13\n",
    "fontweight = 'bold'\n",
    "fontproperties = {'weight':fontweight, 'size':fontsize}\n",
    "ax.set_xlabel('Condition', fontproperties)\n",
    "ax.set_ylabel('Relative Fluorescence Units', fontproperties)"
   ]
  },
  {
   "cell_type": "markdown",
   "metadata": {},
   "source": [
    "Example barplot using Matplotlib:"
   ]
  },
  {
   "cell_type": "code",
   "execution_count": null,
   "metadata": {},
   "outputs": [],
   "source": [
    "names = df[\"Condition + Channel\"]\n",
    "values = df[\"Integrated density 0-1\"]\n",
    "\n",
    "fig, ax = plt.subplots(figsize=(20, 7))\n",
    "\n",
    "plt.bar(names, values)\n",
    "\n",
    "# Define figure title\n",
    "ax.set_title('Relative fluorescence units across conditions', weight='bold', size=17)\n",
    "\n",
    "# Set axis labels\n",
    "fontsize = 13\n",
    "fontweight = 'bold'\n",
    "fontproperties = {'weight':fontweight, 'size':fontsize}\n",
    "ax.set_xlabel('Condition', fontproperties)\n",
    "ax.set_ylabel('Relative Fluorescence Units', fontproperties)"
   ]
  },
  {
   "cell_type": "markdown",
   "metadata": {},
   "source": [
    "___"
   ]
  },
  {
   "cell_type": "markdown",
   "metadata": {},
   "source": [
    "# Computing environment"
   ]
  },
  {
   "cell_type": "code",
   "execution_count": null,
   "metadata": {},
   "outputs": [],
   "source": [
    "%load_ext watermark\n",
    "\n",
    "%watermark -v -p re,numpy,pandas,bebi103,skimage,matplotlib,panel,bokeh,bokeh_catplot,jupyterlab"
   ]
  }
 ],
 "metadata": {
  "kernelspec": {
   "display_name": "Python 3",
   "language": "python",
   "name": "python3"
  },
  "language_info": {
   "codemirror_mode": {
    "name": "ipython",
    "version": 3
   },
   "file_extension": ".py",
   "mimetype": "text/x-python",
   "name": "python",
   "nbconvert_exporter": "python",
   "pygments_lexer": "ipython3",
   "version": "3.7.7"
  }
 },
 "nbformat": 4,
 "nbformat_minor": 4
}
